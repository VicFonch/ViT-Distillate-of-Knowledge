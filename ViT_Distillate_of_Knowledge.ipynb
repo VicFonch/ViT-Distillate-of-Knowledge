{
 "cells": [
  {
   "cell_type": "markdown",
   "metadata": {},
   "source": [
    "#### Autor: Victor M. Fonte Chavez"
   ]
  },
  {
   "cell_type": "code",
   "execution_count": 1,
   "metadata": {},
   "outputs": [
    {
     "name": "stderr",
     "output_type": "stream",
     "text": [
      "C:\\Users\\vfont\\AppData\\Local\\Packages\\PythonSoftwareFoundation.Python.3.11_qbz5n2kfra8p0\\LocalCache\\local-packages\\Python311\\site-packages\\tqdm\\auto.py:21: TqdmWarning: IProgress not found. Please update jupyter and ipywidgets. See https://ipywidgets.readthedocs.io/en/stable/user_install.html\n",
      "  from .autonotebook import tqdm as notebook_tqdm\n",
      "C:\\Users\\vfont\\AppData\\Local\\Packages\\PythonSoftwareFoundation.Python.3.11_qbz5n2kfra8p0\\LocalCache\\local-packages\\Python311\\site-packages\\torchaudio\\backend\\utils.py:74: UserWarning: No audio backend is available.\n",
      "  warnings.warn(\"No audio backend is available.\")\n"
     ]
    }
   ],
   "source": [
    "import os\n",
    "import json\n",
    "import numpy as np\n",
    "import matplotlib.pyplot as plt\n",
    "\n",
    "import torch\n",
    "import torch.nn as nn\n",
    "import torch.nn.functional as F\n",
    "import torch.optim as optim\n",
    "from torch.utils.data import DataLoader\n",
    "from torch.optim.lr_scheduler import CosineAnnealingLR\n",
    "torch.set_float32_matmul_precision('medium')\n",
    "\n",
    "import torchvision as tv\n",
    "from torchvision import transforms\n",
    "from torchvision.datasets import ImageFolder\n",
    "\n",
    "from torchmetrics import MetricCollection\n",
    "from torchmetrics.classification.accuracy import Accuracy\n",
    "from torchmetrics.classification.stat_scores import StatScores\n",
    "\n",
    "from transformers import ViTForImageClassification\n",
    "\n",
    "import lightning as pl"
   ]
  },
  {
   "cell_type": "code",
   "execution_count": 14,
   "metadata": {},
   "outputs": [
    {
     "data": {
      "text/plain": [
       "True"
      ]
     },
     "execution_count": 14,
     "metadata": {},
     "output_type": "execute_result"
    }
   ],
   "source": [
    "torch.cuda.is_available()"
   ]
  },
  {
   "cell_type": "markdown",
   "metadata": {},
   "source": [
    "### Trainer Class: Comun para todos los ejercicios"
   ]
  },
  {
   "cell_type": "code",
   "execution_count": 2,
   "metadata": {},
   "outputs": [],
   "source": [
    "class TrainerFineTune(pl.LightningModule):\n",
    "    def __init__(self, model, save_dir = None):\n",
    "        super(TrainerFineTune, self).__init__()\n",
    "\n",
    "        self.save_dir = save_dir\n",
    "        self.n_classes = 102\n",
    "        self.net = model\n",
    "        # Congelado de todos los parámetros de la red excepto los de la capa clasificadora\n",
    "        for name, param in self.net.named_parameters():\n",
    "            if \"classifier\" not in name:\n",
    "                param.requires_grad = False\n",
    "\n",
    "        self.train_metrics = MetricCollection(\n",
    "            {\n",
    "                \"train_acc\": Accuracy(num_classes=self.n_classes, task=\"multiclass\", top_k=1),\n",
    "                \"train_acc_top5\": Accuracy(\n",
    "                    num_classes=self.n_classes,\n",
    "                    task=\"multiclass\",\n",
    "                    top_k=min(5, self.n_classes),\n",
    "                ),\n",
    "            }\n",
    "        )\n",
    "        self.val_metrics = MetricCollection(\n",
    "            {\n",
    "                \"val_acc\": Accuracy(num_classes=self.n_classes, task=\"multiclass\", top_k=1),\n",
    "                \"val_acc_top5\": Accuracy(\n",
    "                    num_classes=self.n_classes,\n",
    "                    task=\"multiclass\",\n",
    "                    top_k=min(5, self.n_classes),\n",
    "                ),\n",
    "            }\n",
    "        )\n",
    "        self.train_progress = {\"loss\": [], \"acc\": []}\n",
    "        self.val_progress = {\"loss\": [], \"acc\": []}\n",
    "        self.train_loss = []\n",
    "        self.train_acc = []\n",
    "        self.val_loss = []\n",
    "        self.val_acc = []\n",
    "\n",
    "    def forward(self, x):\n",
    "        return self.net(pixel_values=x).logits\n",
    "    \n",
    "    def training_step(self, batch, _):\n",
    "        images, y = batch\n",
    "        y = F.one_hot(y, num_classes=self.n_classes).float()\n",
    "        \n",
    "        self.log(\"lr\", self.trainer.optimizers[0].param_groups[0][\"lr\"], prog_bar=True)\n",
    "\n",
    "        y_hat = self.forward(images)\n",
    "        loss = F.cross_entropy(y_hat, y.argmax(1))\n",
    "        mets = self.train_metrics(y_hat, y.argmax(1))\n",
    "\n",
    "        self.train_progress[\"loss\"].append(loss.item())\n",
    "        self.train_progress[\"acc\"].append(100*mets[\"train_acc\"].item())\n",
    "\n",
    "        self.log(\"train_loss\", loss, prog_bar=True, on_step=True, on_epoch=False, sync_dist=True)\n",
    "        with torch.inference_mode():\n",
    "            for k, v in mets.items():\n",
    "                self.log(k, 100*v, prog_bar=True, on_step=True, on_epoch=False, sync_dist=True)\n",
    "\n",
    "        return loss\n",
    "\n",
    "    @torch.no_grad()\n",
    "    def validation_step(self, batch, _):\n",
    "        images, y = batch\n",
    "        y = F.one_hot(y, num_classes=self.n_classes).float()\n",
    "        \n",
    "        y_hat = self.forward(images)\n",
    "        loss = torch.sum(-y * F.log_softmax(y_hat, dim=-1), dim=-1).mean()\n",
    "        mets = self.val_metrics(y_hat, y.argmax(1))\n",
    "\n",
    "        self.val_progress[\"loss\"].append(loss.item())\n",
    "        self.val_progress[\"acc\"].append(100*mets[\"val_acc\"].item())\n",
    "\n",
    "        self.log(\"val_loss\", loss, prog_bar=True, on_step=False, on_epoch=True, sync_dist=True)\n",
    "        for k, v in mets.items():\n",
    "            self.log(k, 100*v, prog_bar=True, on_step=False, on_epoch=True, sync_dist=True)\n",
    "    \n",
    "    @torch.no_grad()\n",
    "    def on_train_epoch_end(self):\n",
    "        self.train_loss.append(np.mean(self.train_progress[\"loss\"]))\n",
    "        self.val_loss.append(np.mean(self.val_progress[\"loss\"]))\n",
    "        self.train_acc.append(np.mean(self.train_progress[\"acc\"]))\n",
    "        self.val_acc.append(np.mean(self.val_progress[\"acc\"]))\n",
    "\n",
    "        self.train_progress[\"loss\"].clear()\n",
    "        self.val_progress[\"loss\"].clear()\n",
    "        self.train_progress[\"acc\"].clear()\n",
    "        self.val_progress[\"acc\"].clear()\n",
    "\n",
    "        if self.save_dir is not None:\n",
    "            torch.save(self.net, os.path.join(self.save_dir, f\"epoch_{self.current_epoch}.pth\"))\n",
    "\n",
    "        print(f\"\\nEpoch {self.current_epoch+1}/{self.trainer.max_epochs}\", f\"val_loss: {self.val_loss[-1]:.4f}\", f\"val_acc: {self.val_acc[-1]:.4f}\")\n",
    "\n",
    "    def configure_optimizers(self):\n",
    "        lr = 1e-2\n",
    "        optimizer = optim.AdamW(self.net.parameters(), lr=lr)\n",
    "        scheduler = CosineAnnealingLR(\n",
    "                    optimizer,\n",
    "                    T_max=410,\n",
    "                    eta_min=5e-5\n",
    "                )\n",
    "        \n",
    "        return {\n",
    "            \"optimizer\": optimizer,\n",
    "            \"lr_scheduler\": {\n",
    "                \"scheduler\": scheduler,\n",
    "                \"interval\": \"step\",\n",
    "                \"frequency\": 1,\n",
    "            }\n",
    "        }"
   ]
  },
  {
   "cell_type": "markdown",
   "metadata": {},
   "source": [
    "### Cargado de los datos"
   ]
  },
  {
   "cell_type": "code",
   "execution_count": 3,
   "metadata": {},
   "outputs": [],
   "source": [
    "train_dir = '_data/train/'\n",
    "valid_dir = '_data/valid/'\n",
    "\n",
    "cat_to_name_file = os.path.join(\"_data\", 'cat_to_name.json')\n",
    "\n",
    "with open(cat_to_name_file, 'r') as f:\n",
    "    cat_to_name = json.load(f)"
   ]
  },
  {
   "cell_type": "code",
   "execution_count": 4,
   "metadata": {},
   "outputs": [],
   "source": [
    "size = 224\n",
    "min_scale = 0.08\n",
    "max_scale = 1.0\n",
    "flip_prob = 0.5\n",
    "rand_aug_n = 0\n",
    "rand_aug_m = 9\n",
    "mean = (0.5, 0.5, 0.5)\n",
    "std = (0.5, 0.5, 0.5)\n",
    "\n",
    "batch_size = 32\n",
    "n_classes = len(os.listdir(train_dir))\n",
    "\n",
    "transforms_train = transforms.Compose(\n",
    "    [\n",
    "        transforms.RandomResizedCrop(\n",
    "            (size, size),\n",
    "            scale=(min_scale, max_scale),\n",
    "        ),\n",
    "        transforms.RandomHorizontalFlip(flip_prob),\n",
    "        transforms.RandAugment(rand_aug_n, rand_aug_m),\n",
    "        transforms.ToTensor(),\n",
    "        transforms.Normalize(mean=mean, std=std),\n",
    "    ]\n",
    ")\n",
    "transforms_val = transforms.Compose(\n",
    "    [\n",
    "        transforms.Resize(\n",
    "            (size, size),\n",
    "        ),\n",
    "        transforms.ToTensor(),\n",
    "        transforms.Normalize(mean=mean, std=std),\n",
    "    ]\n",
    ")\n",
    "\n",
    "train_dataset = ImageFolder(root=train_dir, transform=transforms_train)\n",
    "valid_dataset = ImageFolder(root=valid_dir, transform=transforms_val)\n",
    "\n",
    "train_dataloader = DataLoader(train_dataset, batch_size=batch_size, shuffle=True)\n",
    "valid_dataloader = DataLoader(valid_dataset, batch_size=batch_size, shuffle=False)"
   ]
  },
  {
   "cell_type": "markdown",
   "metadata": {},
   "source": [
    "Usando un ViT pre-entrenado realizo el fine-tune sobre el conjunto de datos de\n",
    "Flowers102 Flowers102 y replico el experimento de clasificación presentado en el paper de\n",
    "ViT (Dosovitskiy et al., An Image is Worth 16x16 Words: Transformers for Image Recognition\n",
    "at Scale)"
   ]
  },
  {
   "cell_type": "markdown",
   "metadata": {},
   "source": [
    "En este caso guardamos el modelo para posteriores problemas "
   ]
  },
  {
   "cell_type": "code",
   "execution_count": 6,
   "metadata": {},
   "outputs": [
    {
     "name": "stderr",
     "output_type": "stream",
     "text": [
      "GPU available: True (cuda), used: True\n",
      "TPU available: False, using: 0 TPU cores\n",
      "IPU available: False, using: 0 IPUs\n",
      "HPU available: False, using: 0 HPUs\n"
     ]
    },
    {
     "name": "stderr",
     "output_type": "stream",
     "text": [
      "Some weights of ViTForImageClassification were not initialized from the model checkpoint at google/vit-base-patch16-224-in21k and are newly initialized: ['classifier.bias', 'classifier.weight']\n",
      "You should probably TRAIN this model on a down-stream task to be able to use it for predictions and inference.\n",
      "LOCAL_RANK: 0 - CUDA_VISIBLE_DEVICES: [0]\n",
      "\n",
      "  | Name          | Type                      | Params\n",
      "------------------------------------------------------------\n",
      "0 | net           | ViTForImageClassification | 85.9 M\n",
      "1 | train_metrics | MetricCollection          | 0     \n",
      "2 | val_metrics   | MetricCollection          | 0     \n",
      "------------------------------------------------------------\n",
      "78.4 K    Trainable params\n",
      "85.8 M    Non-trainable params\n",
      "85.9 M    Total params\n",
      "343.508   Total estimated model params size (MB)\n"
     ]
    },
    {
     "name": "stdout",
     "output_type": "stream",
     "text": [
      "Epoch 0: 100%|██████████| 205/205 [01:22<00:00,  2.48it/s, v_num=61, lr=0.00506, train_loss=0.0136, train_acc=100.0, train_acc_top5=100.0, val_loss=0.0407, val_acc=99.50, val_acc_top5=99.80]\n",
      "Epoch 1/10 val_loss: 0.3678 val_acc: 92.8819\n",
      "Epoch 1: 100%|██████████| 205/205 [01:19<00:00,  2.57it/s, v_num=61, lr=5.01e-5, train_loss=0.0739, train_acc=95.80, train_acc_top5=100.0, val_loss=0.0391, val_acc=99.40, val_acc_top5=99.80]  \n",
      "Epoch 2/10 val_loss: 0.0414 val_acc: 99.3056\n",
      "Epoch 2: 100%|██████████| 205/205 [01:21<00:00,  2.51it/s, v_num=61, lr=0.00499, train_loss=0.0529, train_acc=100.0, train_acc_top5=100.0, val_loss=0.0406, val_acc=99.40, val_acc_top5=99.90] \n",
      "Epoch 3/10 val_loss: 0.0445 val_acc: 99.2121\n",
      "Epoch 3: 100%|██████████| 205/205 [01:19<00:00,  2.59it/s, v_num=61, lr=0.010, train_loss=0.00494, train_acc=100.0, train_acc_top5=100.0, val_loss=0.0401, val_acc=99.30, val_acc_top5=99.80]  \n",
      "Epoch 4/10 val_loss: 0.0425 val_acc: 99.1854\n",
      "Epoch 4: 100%|██████████| 205/205 [01:27<00:00,  2.34it/s, v_num=61, lr=0.00506, train_loss=0.269, train_acc=95.80, train_acc_top5=95.80, val_loss=0.0396, val_acc=99.30, val_acc_top5=99.90]  \n",
      "Epoch 5/10 val_loss: 0.0405 val_acc: 99.1854\n",
      "Epoch 5: 100%|██████████| 205/205 [01:31<00:00,  2.23it/s, v_num=61, lr=5.01e-5, train_loss=0.090, train_acc=95.80, train_acc_top5=100.0, val_loss=0.0386, val_acc=99.40, val_acc_top5=99.80]    \n",
      "Epoch 6/10 val_loss: 0.0387 val_acc: 99.3990\n",
      "Epoch 6: 100%|██████████| 205/205 [01:59<00:00,  1.72it/s, v_num=61, lr=0.00499, train_loss=0.272, train_acc=95.80, train_acc_top5=95.80, val_loss=0.0389, val_acc=99.50, val_acc_top5=99.80]  \n",
      "Epoch 7/10 val_loss: 0.0391 val_acc: 99.5192\n",
      "Epoch 7: 100%|██████████| 205/205 [02:03<00:00,  1.65it/s, v_num=61, lr=0.010, train_loss=0.00135, train_acc=100.0, train_acc_top5=100.0, val_loss=0.0427, val_acc=99.10, val_acc_top5=99.80]   \n",
      "Epoch 8/10 val_loss: 0.0452 val_acc: 98.9717\n",
      "Epoch 8: 100%|██████████| 205/205 [02:01<00:00,  1.69it/s, v_num=61, lr=0.00506, train_loss=0.00627, train_acc=100.0, train_acc_top5=100.0, val_loss=0.0388, val_acc=99.50, val_acc_top5=99.90] \n",
      "Epoch 9/10 val_loss: 0.0385 val_acc: 99.5192\n",
      "Epoch 9: 100%|██████████| 205/205 [02:01<00:00,  1.69it/s, v_num=61, lr=5.01e-5, train_loss=0.0227, train_acc=100.0, train_acc_top5=100.0, val_loss=0.0362, val_acc=99.40, val_acc_top5=99.90]   \n",
      "Epoch 10/10 val_loss: 0.0367 val_acc: 99.3990\n"
     ]
    },
    {
     "name": "stderr",
     "output_type": "stream",
     "text": [
      "`Trainer.fit` stopped: `max_epochs=10` reached.\n"
     ]
    },
    {
     "name": "stdout",
     "output_type": "stream",
     "text": [
      "Epoch 9: 100%|██████████| 205/205 [02:05<00:00,  1.63it/s, v_num=61, lr=5.01e-5, train_loss=0.0227, train_acc=100.0, train_acc_top5=100.0, val_loss=0.0362, val_acc=99.40, val_acc_top5=99.90]\n"
     ]
    }
   ],
   "source": [
    "trainer = pl.Trainer(\n",
    "    max_epochs = 10,  \n",
    "    devices=1,\n",
    "    accelerator='gpu',\n",
    ")\n",
    "\n",
    "net = ViTForImageClassification.from_pretrained(\n",
    "            'google/vit-base-patch16-224-in21k', \n",
    "            num_labels=102\n",
    "        )\n",
    "\n",
    "model = TrainerFineTune(net, save_dir='_checkpoints/teacher')\n",
    "trainer.fit(model, train_dataloader, valid_dataloader)"
   ]
  },
  {
   "cell_type": "code",
   "execution_count": 10,
   "metadata": {},
   "outputs": [
    {
     "data": {
      "image/png": "[encoded data removed]",
      "text/plain": [
       "<Figure size 1000x500 with 2 Axes>"
      ]
     },
     "metadata": {},
     "output_type": "display_data"
    }
   ],
   "source": [
    "training_loss = model.train_loss\n",
    "validation_loss = model.val_loss\n",
    "training_acc = model.train_acc\n",
    "validation_acc = model.val_acc\n",
    "\n",
    "# Plot loss y accuracy\n",
    "plt.figure(figsize=(10, 5))\n",
    "plt.subplot(1, 2, 1)\n",
    "plt.plot(training_loss, label='Training loss')\n",
    "plt.plot(validation_loss, label='Validation loss')\n",
    "plt.legend(frameon=False)\n",
    "plt.xlabel('Epoch')\n",
    "plt.ylabel('Loss')\n",
    "plt.tight_layout()\n",
    "\n",
    "plt.subplot(1, 2, 2)\n",
    "plt.plot(training_acc, label='Training accuracy')\n",
    "plt.plot(validation_acc, label='Validation accuracy')\n",
    "plt.legend(frameon=False)\n",
    "plt.xlabel('Epoch')\n",
    "plt.ylabel('Accuracy')\n",
    "plt.tight_layout()\n",
    "plt.show()"
   ]
  }
 ],
 "metadata": {
  "kernelspec": {
   "display_name": "Python 3",
   "language": "python",
   "name": "python3"
  },
  "language_info": {
   "codemirror_mode": {
    "name": "ipython",
    "version": 3
   },
   "file_extension": ".py",
   "mimetype": "text/x-python",
   "name": "python",
   "nbconvert_exporter": "python",
   "pygments_lexer": "ipython3",
   "version": "3.11.6"
  }
 },
 "nbformat": 4,
 "nbformat_minor": 2
}
